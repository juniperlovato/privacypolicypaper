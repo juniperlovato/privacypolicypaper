{
  "cells": [
    {
      "cell_type": "markdown",
      "metadata": {
        "id": "view-in-github",
        "colab_type": "text"
      },
      "source": [
        "<a href=\"https://colab.research.google.com/github/juniperlovato/privacypolicypaper/blob/main/countwords_uniquewords_Privacy_Policy_Paper_2023.ipynb\" target=\"_parent\"><img src=\"https://colab.research.google.com/assets/colab-badge.svg\" alt=\"Open In Colab\"/></a>"
      ]
    },
    {
      "cell_type": "code",
      "execution_count": null,
      "metadata": {
        "colab": {
          "base_uri": "https://localhost:8080/"
        },
        "id": "PaLWX7POWWiY",
        "outputId": "047c2565-2206-48a4-aa7b-1cae4f0b142a"
      },
      "outputs": [
        {
          "output_type": "stream",
          "name": "stdout",
          "text": [
            "Mounted at /content/drive\n"
          ]
        }
      ],
      "source": [
        "from google.colab import drive\n",
        "drive.mount('/content/drive')"
      ]
    },
    {
      "cell_type": "code",
      "execution_count": null,
      "metadata": {
        "id": "VPQn2Y65IN3V"
      },
      "outputs": [],
      "source": [
        "import sys\n",
        "import csv\n",
        "maxInt = sys.maxsize\n",
        "\n",
        "while True:\n",
        "    # decrease the maxInt value by factor 10 \n",
        "    # as long as the OverflowError occurs.\n",
        "\n",
        "    try:\n",
        "        csv.field_size_limit(maxInt)\n",
        "        break\n",
        "    except OverflowError:\n",
        "        maxInt = int(maxInt/10)"
      ]
    },
    {
      "cell_type": "code",
      "execution_count": null,
      "metadata": {
        "colab": {
          "base_uri": "https://localhost:8080/"
        },
        "id": "dwnDv1wtXK8a",
        "outputId": "a2c87056-6e6c-45f8-fc78-43f9f63128c6"
      },
      "outputs": [
        {
          "output_type": "stream",
          "name": "stdout",
          "text": [
            "xz: /content/drive/MyDrive/RESEARCH/CODE AND DATA/Pirvacy_Policies_OT/PoCS/data/by-year/*.csv.xz: No such file or directory\n"
          ]
        }
      ],
      "source": [
        "#decompress\n",
        "!for file in /content/drive/MyDrive/RESEARCH/CODE AND DATA/Pirvacy_Policies_OT/PoCS/data/filtered_pii_extracted*.csv.xz; do xz --decompress \"$file\"; done\n"
      ]
    },
    {
      "cell_type": "code",
      "execution_count": null,
      "metadata": {
        "colab": {
          "base_uri": "https://localhost:8080/"
        },
        "id": "ArcKY7kIh4c9",
        "outputId": "c1c1a5a0-64af-4508-92ca-3812187d2227"
      },
      "outputs": [
        {
          "output_type": "stream",
          "name": "stdout",
          "text": [
            "year:  1997\n",
            "13\n",
            "25\n",
            "year:  1998\n",
            "27\n",
            "494\n",
            "year:  1999\n",
            "45\n",
            "2526\n",
            "year:  2000\n",
            "64\n",
            "14522\n",
            "year:  2001\n",
            "71\n",
            "23182\n",
            "year:  2002\n",
            "76\n",
            "33963\n",
            "year:  2003\n",
            "76\n",
            "42670\n",
            "year:  2004\n",
            "78\n",
            "77980\n",
            "year:  2005\n",
            "78\n",
            "68965\n",
            "year:  2006\n",
            "78\n",
            "91992\n",
            "year:  2007\n",
            "80\n",
            "165744\n",
            "year:  2008\n",
            "80\n",
            "146335\n",
            "year:  2009\n",
            "84\n",
            "176552\n",
            "year:  2010\n",
            "85\n",
            "316706\n",
            "year:  2011\n",
            "85\n",
            "326307\n",
            "year:  2012\n",
            "86\n",
            "374757\n",
            "year:  2013\n",
            "84\n",
            "433677\n",
            "year:  2014\n",
            "83\n",
            "491032\n",
            "year:  2015\n",
            "84\n",
            "547066\n",
            "year:  2016\n",
            "84\n",
            "609593\n",
            "year:  2017\n",
            "86\n",
            "602959\n",
            "year:  2018\n",
            "86\n",
            "607413\n",
            "year:  2019\n",
            "92\n",
            "2972358\n"
          ]
        }
      ],
      "source": [
        "#export second column\n",
        "import csv\n",
        "for year in range(1997,2020):\n",
        "  csv_file = '/content/drive/MyDrive/RESEARCH/CODE AND DATA/Pirvacy_Policies_OT/PoCS/data/filtered_pii_extracted/'+str(year)+'_pii_extracted.csv'\n",
        "  txt_file = 'tempfile.txt'\n",
        "  with open(txt_file, \"w\") as my_output_file:\n",
        "      with open(csv_file, \"r\") as my_input_file:\n",
        "          [ my_output_file.write(\"\".join(row[1])+'\\n') for row in csv.reader(my_input_file)]\n",
        "      my_output_file.close()\n",
        "  print('year: ', year)\n",
        "  #unique words\n",
        "  !grep -o -E '\\w+' tempfile.txt | sort -u -b -f | wc -l\n",
        "  #total words\n",
        "  !grep -o -E '\\w+' tempfile.txt | wc -l"
      ]
    },
    {
      "cell_type": "code",
      "execution_count": null,
      "metadata": {
        "colab": {
          "base_uri": "https://localhost:8080/"
        },
        "id": "9HPeP5Jfh6Yh",
        "outputId": "9ca90a14-64d7-4d8b-ee49-dc49e8cce180"
      },
      "outputs": [
        {
          "name": "stdout",
          "output_type": "stream",
          "text": [
            "0\n"
          ]
        }
      ],
      "source": [
        "#unique words\n",
        "!grep -o -E '\\w+' tempfile.txt | sort -u -b -f | wc -l"
      ]
    },
    {
      "cell_type": "code",
      "execution_count": null,
      "metadata": {
        "colab": {
          "base_uri": "https://localhost:8080/"
        },
        "id": "Sh4wwWJMBiK8",
        "outputId": "d8bc7514-9677-4681-d2b7-f431cc495d76"
      },
      "outputs": [
        {
          "name": "stdout",
          "output_type": "stream",
          "text": [
            "0\n"
          ]
        }
      ],
      "source": [
        "#total words\n",
        "!grep -o -E '\\w+' tempfile.txt | wc -l"
      ]
    }
  ],
  "metadata": {
    "colab": {
      "provenance": [],
      "include_colab_link": true
    },
    "kernelspec": {
      "display_name": "Python 3",
      "name": "python3"
    },
    "language_info": {
      "name": "python"
    }
  },
  "nbformat": 4,
  "nbformat_minor": 0
}