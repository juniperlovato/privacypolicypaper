{
  "cells": [
    {
      "cell_type": "markdown",
      "metadata": {
        "id": "view-in-github",
        "colab_type": "text"
      },
      "source": [
        "<a href=\"https://colab.research.google.com/github/juniperlovato/privacypolicypaper/blob/main/negation_filtered_policytext_PII.ipynb\" target=\"_parent\"><img src=\"https://colab.research.google.com/assets/colab-badge.svg\" alt=\"Open In Colab\"/></a>"
      ]
    },
    {
      "cell_type": "code",
      "execution_count": 4,
      "metadata": {
        "id": "50g4BvmW87QS"
      },
      "outputs": [],
      "source": [
        "import pandas as pd\n",
        "import re\n",
        "import numpy as np\n",
        "import array as ar\n",
        "\n",
        "#--\n",
        "import os"
      ]
    },
    {
      "cell_type": "code",
      "execution_count": 2,
      "metadata": {
        "colab": {
          "base_uri": "https://localhost:8080/"
        },
        "id": "Gvaym3iPDsPt",
        "outputId": "b5f96dc1-95ee-46be-f658-ae7c66dd5dbf"
      },
      "outputs": [
        {
          "output_type": "stream",
          "name": "stdout",
          "text": [
            "Mounted at /content/drive\n"
          ]
        }
      ],
      "source": [
        "from google.colab import drive\n",
        "drive.mount('/content/drive')"
      ]
    },
    {
      "cell_type": "markdown",
      "metadata": {
        "id": "SDx_eTeK_NXv"
      },
      "source": [
        "Summary\n",
        "\n",
        "1.   We are going to want to feed in each year of the privacy policy text\n",
        "2.   then we want to filter out clauses that only have negation words (save the csv here)\n",
        "3.   then filter the data frame so it only has PII lexicon terms (save the csv here too)\n",
        "\n"
      ]
    },
    {
      "cell_type": "code",
      "execution_count": 3,
      "metadata": {
        "id": "79aCRF91JSTW"
      },
      "outputs": [],
      "source": [
        "#we will want to feed in each year of priviacy policies\n",
        "data_base_path = '/data'\n",
        "cleaned_data_path = 'by-year'\n",
        "data_path = os.path.join(data_base_path, cleaned_data_path)\n",
        "#--\n",
        "df = pd.read_csv(os.path.join(data_path, 'PrivacyPolicies-2019.csv'))"
      ]
    },
    {
      "cell_type": "markdown",
      "metadata": {
        "id": "MR_9o-alK3wS"
      },
      "source": [
        "#negation"
      ]
    },
    {
      "cell_type": "code",
      "execution_count": 5,
      "metadata": {
        "id": "-uAImUcYK44J",
        "colab": {
          "base_uri": "https://localhost:8080/"
        },
        "outputId": "e7c0a4fc-5336-4c3a-e4b3-6af1ba257cd9"
      },
      "outputs": [
        {
          "output_type": "execute_result",
          "data": {
            "text/plain": [
              "0        23984\n",
              "1        23984\n",
              "2        15077\n",
              "3        27423\n",
              "4        43613\n",
              "         ...  \n",
              "51786     2057\n",
              "51787     6152\n",
              "51788     4640\n",
              "51789    15771\n",
              "51790    18271\n",
              "Name: nb_of_clauses, Length: 51791, dtype: object"
            ]
          },
          "metadata": {},
          "execution_count": 5
        }
      ],
      "source": [
        "\n",
        "df['list_of_clauses'] = df['policy_text'].astype('object')\n",
        "df['nb_of_clauses'] = df['length']\n",
        "df['list_of_clauses'].astype(str).str.lower()\n",
        "df['nb_of_clauses'].astype(str).str.lower()"
      ]
    },
    {
      "cell_type": "code",
      "execution_count": 6,
      "metadata": {
        "id": "3aB-PS8Tt6GB"
      },
      "outputs": [],
      "source": [
        "df_clauses = df[['nb_of_clauses', 'list_of_clauses']].copy()"
      ]
    },
    {
      "cell_type": "code",
      "execution_count": 7,
      "metadata": {
        "id": "8J_QvzszLR6N"
      },
      "outputs": [],
      "source": [
        "#we loop all rows and find all punctuation then split them each into a new column\n",
        "#every entry in the new column now becomes a list of clauses\n",
        "\n",
        "for index, row in df_clauses.iterrows():\n",
        "    policy_texts_split = re.split(r\"[!\\\"#\\$%&\\'\\(\\)\\*\\+,-\\./:;<=>\\?@\\[\\\\\\]\\^_`{\\|}~]\", df_clauses.at[index,'list_of_clauses'])\n",
        "    policy_texts_split = list(filter(None, policy_texts_split))\n",
        "    df_clauses.at[index,'list_of_clauses'] = policy_texts_split\n",
        "    df_clauses.at[index,'nb_of_clauses'] = len(policy_texts_split)\n"
      ]
    },
    {
      "cell_type": "code",
      "execution_count": 8,
      "metadata": {
        "id": "nWxsk3k5D6fh"
      },
      "outputs": [],
      "source": [
        "# df_clauses"
      ]
    },
    {
      "cell_type": "code",
      "execution_count": 9,
      "metadata": {
        "id": "D2zpJxB4M7C7"
      },
      "outputs": [],
      "source": [
        "#negation words \n",
        "negation_words = [\"don't\",\"never\", \"nothing\", \"nowhere\", \"noone\", \"none\", \"not\",\n",
        "                  \"hasn't\",\"hadn't\",\"can't\",\"couldn't\",\"shouldn't\",\"won't\",\n",
        "                  \"wouldn't\",\"don't\",\"doesn't\",\"didn't\",\"isn't\",\"aren't\",\"ain't\", \"in*\",  \"un*\", \"dis*\", \"mal*\"]\n",
        "\n",
        "\n",
        "#“don't|never| nothing|nowhere|noone|none|not|hasn't|hadn't|can't|couldn't|shouldn't|won't|wouldn't|don't|doesn't|didn't|isn't|aren't|ain't|in*|un*|dis*|mal*”"
      ]
    },
    {
      "cell_type": "code",
      "execution_count": 20,
      "metadata": {
        "id": "2BNKIHJ1D_a6",
        "outputId": "5ce2d166-7435-4fbd-8ee9-7dd158ec56eb",
        "colab": {
          "base_uri": "https://localhost:8080/"
        }
      },
      "outputs": [
        {
          "output_type": "stream",
          "name": "stderr",
          "text": [
            "<ipython-input-20-0b0d04c2ede6>:24: SettingWithCopyWarning: \n",
            "A value is trying to be set on a copy of a slice from a DataFrame.\n",
            "Try using .loc[row_indexer,col_indexer] = value instead\n",
            "\n",
            "See the caveats in the documentation: https://pandas.pydata.org/pandas-docs/stable/user_guide/indexing.html#returning-a-view-versus-a-copy\n",
            "  df['negation_Extracted'] = df['policy_text'].apply(remove_negations) #apply at each row\n"
          ]
        }
      ],
      "source": [
        "#iterate through all the rows\n",
        "#look at list items that contain negation words\n",
        "#if the list item contains a negation word then remove the list item (sentence)\n",
        "#return a column with just the list of sentences that do not have negation words in them\n",
        "\n",
        "def remove_negations(text):\n",
        "    # Step 1: split the text into sentences\n",
        "    sent = re.split(r'[.!]', text)\n",
        "    #list to store sentences without negataions\n",
        "    w_neg = []\n",
        "    #step 2: check for each sentence in row\n",
        "    for i in sent:\n",
        "      neg = False\n",
        "      #step 3: check for each negation word in the list of negation words\n",
        "      for j in negation_words:\n",
        "        if j in i and j != PII: #if there is a negataion word in sentence\n",
        "          neg = True #make it true\n",
        "          break; #break the loop and go for another sentence\n",
        "      if not neg: #but if it's still false meaning that no negation word was found in a sentence\n",
        "        w_neg.append(i) #add that sentence to the list\n",
        "\n",
        "    return w_neg #now join back the sentences\n",
        "\n",
        "df['negation_Extracted'] = df['policy_text'].apply(remove_negations) #apply at each row\n",
        "\n"
      ]
    },
    {
      "cell_type": "code",
      "execution_count": 11,
      "metadata": {
        "id": "9tKn_oxgFTLc"
      },
      "outputs": [],
      "source": [
        "# df['negation_Extracted']"
      ]
    },
    {
      "cell_type": "code",
      "execution_count": 13,
      "metadata": {
        "id": "L3M84sba_tDB"
      },
      "outputs": [],
      "source": [
        "#save it as a csv\n",
        "#make sure to change the file name for the correct year\n",
        "\n",
        "# df.to_csv('ALLYEARS_negation_extracted.csv')"
      ]
    },
    {
      "cell_type": "markdown",
      "metadata": {
        "id": "yjzOvq23K5Ko"
      },
      "source": [
        "#filter PII"
      ]
    },
    {
      "cell_type": "code",
      "execution_count": 14,
      "metadata": {
        "id": "BBakEfs3-CR1"
      },
      "outputs": [],
      "source": [
        "#these are all of the terms in our PII lexicon put into a list\n",
        "PII = ['Identifiers',\n",
        "    'alias',\n",
        "    'online identifier',\n",
        "    'Internet Protocol (IP) address',\n",
        "    'account name',\n",
        "    'social security number',\n",
        "    'passport number',\n",
        "    'Customer records information',\n",
        "    'IDENTIFICATION NUMBER',\n",
        "    'signature',\n",
        "    'electronic mail address',\n",
        "    'address',\n",
        "    'telephone number',\n",
        "    'PROTECTED HEALTH INFORMATION',\n",
        "    'state identification card number',\n",
        "    'education',\n",
        "    'employment history',\n",
        "    'bank account number',\n",
        "    'face',\n",
        "    'financial information',\n",
        "    'Records of personal property',\n",
        "    'products purchased',\n",
        "    'health condition',\n",
        "    'consuming histories',\n",
        "    'Services purchased',\n",
        "    'eye color',\n",
        "    'retina scans',\n",
        "    'network activity',\n",
        "    'Internet  activity',\n",
        "    'search history',\n",
        "    'Geolocation',\n",
        "    'visual',\n",
        "    'thermal',\n",
        "    'olfactory',\n",
        "    'Professional',\n",
        "    'Medical Condition',\n",
        "    'Characteristics',\n",
        "    'Aggregated data',\n",
        "    'Predispositions',\n",
        "    'Behavior',\n",
        "    'specific location',\n",
        "    'facial recognition',\n",
        "    'physiological',\n",
        "    'behavioral',\n",
        "    'Audio',\n",
        "    'DNA',\n",
        "    'iris',\n",
        "    'retina',\n",
        "    'hand',\n",
        "    'palm',\n",
        "    'vein patterns',\n",
        "    'voice recordings',\n",
        "    'minutiae template',\n",
        "    'HEALTH STATUS',\n",
        "    'keystroke patterns ',\n",
        "    'keystroke rhythms',\n",
        "    'gait rhythms',\n",
        "    'sleep',\n",
        "    'health',\n",
        "    'exercise',\n",
        "    'Cross-context behavioral advertising',\n",
        "    'targeted advertising',\n",
        "    'Dark pattern',\n",
        "    'Personal information',\n",
        "    'RACIAL',\n",
        "    'real name',\n",
        "    'Account number',\n",
        "    'postal address',\n",
        "    'financial account number',\n",
        "    'Internet Protocol address',\n",
        "    'Gender identity',\n",
        "    'email address',\n",
        "    'security question',\n",
        "    'Color',\n",
        "    'Religion',\n",
        "    'Sex',\n",
        "    'Sexual orientation',\n",
        "    'Marital status',\n",
        "    'National origin',\n",
        "    'Ancestry',\n",
        "    'Genetic information',\n",
        "    'Retaliation for reporting patient abuse in tax-supported institutions',\n",
        "    'Age',\n",
        "    'religious dress',\n",
        "    'pregnancy',\n",
        "    'Gender',\n",
        "    'childbirth',\n",
        "    'breastfeeding',\n",
        "    'mental characteristics',\n",
        "    'physical characteristics',\n",
        "    'HIV/AIDS',\n",
        "    'cancer',\n",
        "    'genetic characteristics',\n",
        "    'Geolocation data',\n",
        "    'record of cancer',\n",
        "    'history of cancer',\n",
        "    'gender expression',\n",
        "    'abilities',\n",
        "    'MENTAL CONDITION',\n",
        "    'PREDICT',\n",
        "    'biological',\n",
        "    'purchasing tendencies',\n",
        "    'Aggregate consumer information',\n",
        "    'first name',\n",
        "    'voice',\n",
        "    'electronic network activity',\n",
        "    'biological characteristic',\n",
        "    'interaction with an advertisement',\n",
        "    'Browsing history',\n",
        "    'employment',\n",
        "    'Race',\n",
        "    'health records',\n",
        "    'citizenship',\n",
        "    'Military or veteran status',\n",
        "    'medical identification number',\n",
        "    'access code',\n",
        "    'preferences',\n",
        "    'protected classifications',\n",
        "    'psychological trends',\n",
        "    'Commercial information',\n",
        "    'medical information',\n",
        "    'attitudes',\n",
        "    'intelligence',\n",
        "    'Name',\n",
        "    'driver\\'s license',\n",
        "    'Sensitive personal information',\n",
        "    'Precise geolocation',\n",
        "    'locate',\n",
        "    'geographic area',\n",
        "    'radius',\n",
        "    'Sensitive data',\n",
        "    'Profiling',\n",
        "    'consumer\\'s social security',\n",
        "    'driver\\'s license',\n",
        "    'state Identification card',\n",
        "    'account log-In',\n",
        "    'credit card',\n",
        "    'health insurance information',\n",
        "    'password',\n",
        "    'credentials allowing access to an account',\n",
        "    'combination',\n",
        "    'racial origin',\n",
        "    'ethnic origin',\n",
        "    'philosophical beliefs',\n",
        "    'union membership',\n",
        "    'text messages',\n",
        "    'genetic data',\n",
        "    'biometric data',\n",
        "    'Personally identifiable information',\n",
        "    'security code',\n",
        "    'fingerprint',\n",
        "    'device identifier',\n",
        "    'IP address',\n",
        "    'cookies',\n",
        "    'beacons',\n",
        "    'pixel tags',\n",
        "    'customer number',\n",
        "    'unique pseudonym',\n",
        "    'telephone numbers',\n",
        "    'persistent identifier',\n",
        "    'probabilistic identifier',\n",
        "    'family',\n",
        "    'child',\n",
        "    'identifier template',\n",
        "    'DE-IDENTIFIED DATA',\n",
        "    'HEALTH-CARE INFORMATION',\n",
        "    'HEALTH-CARE PROVIDER',\n",
        "    'MEDICINE',\n",
        "    'PHARMACY',\n",
        "    'CHIROPRACTIC',\n",
        "    'NURSING',\n",
        "    'PHYSICAL THERAPY',\n",
        "    'PODIATRY',\n",
        "    'DENTISTRY',\n",
        "    'OPTOMETRY',\n",
        "    'OCCUPATIONAL THERAPY',\n",
        "    'HEALING ARTS',\n",
        "    'IDENTIFIED',\n",
        "    'IDENTIFIABLE INDIVIDUAL',\n",
        "    'ONLINE IDENTIFIER',\n",
        "    'PERSONAL DATA',\n",
        "    'products obtained',\n",
        "    'AUTOMATED PROCESSING',\n",
        "    'Request for Pregnancy Disability Leave',\n",
        "    'ANALYZE',\n",
        "    'ECONOMIC SITUATION',\n",
        "    'PERSONAL PREFERENCES',\n",
        "    'religious beliefs',\n",
        "    'RELIABILITY',\n",
        "    'LOCATION',\n",
        "    'MOVEMENTS',\n",
        "    'PHYSICAL HEALTH CONDITION',\n",
        "    'DIAGNOSIS',\n",
        "    'credit card number',\n",
        "    'CITIZENSHIP STATUS',\n",
        "    'GENETIC',\n",
        "    'last name',\n",
        "    'mobile ad identifiers',\n",
        "    'HEALTH-CARE',\n",
        "    'PATIENT',\n",
        "    'fingerprints',\n",
        "    'products considered',\n",
        "    'physical description',\n",
        "    'voiceprint',\n",
        "    'eye retinas',\n",
        "    'Unique identifier',\n",
        "    'consuming tendencies',\n",
        "    'faceprint',\n",
        "    'driver\\'s license number',\n",
        "    'Services considered',\n",
        "    'global positioning system',\n",
        "    'latitude',\n",
        "    'longitude',\n",
        "    'coordinates',\n",
        "    'interests',\n",
        "    'financial account',\n",
        "    'user alias',\n",
        "    'irises',\n",
        "    'Request for leave for an employee\\'s own serious health condition',\n",
        "    'condition',\n",
        "    'physical',\n",
        "    'diagnosis',\n",
        "    'insurance policy number',\n",
        "    'immigration status',\n",
        "    'known child',\n",
        "    'sex life',\n",
        "    'height',\n",
        "    'AIDS',\n",
        "    'medical diagnosis',\n",
        "    'religious grooming practices',\n",
        "    'Identifiable individual',\n",
        "    'debit card',\n",
        "    'ethnic',\n",
        "    'origin',\n",
        "    'medical treatment',\n",
        "    'Inferences',\n",
        "    'medical history',\n",
        "    'mental health',\n",
        "    'physical health',\n",
        "    'mental',\n",
        "    'Biometric information',\n",
        "    'email content',\n",
        "    'physical representation',\n",
        "    'biological pattern',\n",
        "    'mother\\'s maiden name',\n",
        "    'interaction with an internet website application',\n",
        "    'deoxyribonucleic acid',\n",
        "    'purchasing histories',\n",
        "    'Disability',\n",
        "    'targeting of advertising',\n",
        "    'movements',\n",
        "    'Hair color',\n",
        "    'digital representation',\n",
        "    'Initials',\n",
        "    'SPECIFIC GEOLOCATION DATA',\n",
        "    'driver authorization card number',\n",
        "    'identification card number',\n",
        "    'debit card number',\n",
        "    'health insurance identification number',\n",
        "    'user name',\n",
        "    'Request for family care leave',\n",
        "    'date of birth',\n",
        "    'place of birth',\n",
        "    'unique biometric',\n",
        "    'human body',\n",
        "    'HIV',\n",
        "    'biometric',\n",
        "    'language',\n",
        "    'household',\n",
        "    'driver\\'s license number',\n",
        "    'government-issued identification number',\n",
        "    'driver license',\n",
        "    'nondriver State identification card number',\n",
        "    'individual taxpayer identification number',\n",
        "    'military identification card number',\n",
        "    'gait patterns',\n",
        "    'unique personal identifier',\n",
        "    'passwords',\n",
        "    'personal identification number',\n",
        "    'services obtained',\n",
        "    'wellness program',\n",
        "    'health promotion',\n",
        "    'disease prevention',\n",
        "    'health insurance policy number']\n"
      ]
    },
    {
      "cell_type": "code",
      "execution_count": 15,
      "metadata": {
        "id": "qNLqCzS9DQo_"
      },
      "outputs": [],
      "source": [
        "#make sure the lexixon terms are lower case\n",
        "for i in range(len(PII)):\n",
        "    PII[i] = PII[i].lower()"
      ]
    },
    {
      "cell_type": "code",
      "execution_count": 16,
      "metadata": {
        "id": "rmVZmLQ5Kh7g"
      },
      "outputs": [],
      "source": [
        "df['negation_Extracted'] = df['negation_Extracted'].astype(str)"
      ]
    },
    {
      "cell_type": "code",
      "execution_count": 17,
      "metadata": {
        "id": "3nmuD6iZLlKt"
      },
      "outputs": [],
      "source": [
        "#filter out all of the PII terms and put them in a new column\n",
        "\n",
        "extracted =[]\n",
        "for index, row in df.iterrows():\n",
        "    tempList =[]\n",
        "    rowSplit = row['negation_Extracted'].split(\" \")\n",
        "    for val in rowSplit:\n",
        "        if val in PII:\n",
        "            tempList.append(val)\n",
        "    if len(tempList)>0:\n",
        "        extracted.append(' '.join(tempList))\n",
        "    else:\n",
        "        extracted.append(np.nan)\n",
        "\n",
        "df['PII_Extracted'] = extracted"
      ]
    },
    {
      "cell_type": "code",
      "execution_count": 18,
      "metadata": {
        "id": "t_udY_F6RC3v"
      },
      "outputs": [],
      "source": [
        "#drop nans\n",
        "\n",
        "df = df[df['PII_Extracted'].notna()]"
      ]
    },
    {
      "cell_type": "code",
      "execution_count": 19,
      "metadata": {
        "id": "jsRyJImGK9l5",
        "colab": {
          "base_uri": "https://localhost:8080/"
        },
        "outputId": "48f75c20-9043-4496-99d1-f1dee2754058"
      },
      "outputs": [
        {
          "output_type": "execute_result",
          "data": {
            "text/plain": [
              "0        professional signature name geolocation identi...\n",
              "1        professional signature name geolocation identi...\n",
              "2        analyze location location language preferences...\n",
              "3        combination locate address location locate add...\n",
              "4        address physical characteristics health locati...\n",
              "                               ...                        \n",
              "51786                                              cookies\n",
              "51787                            name name cookies analyze\n",
              "51788                     cookies cookies cookies physical\n",
              "51789    physical preferences name cookies cookies pref...\n",
              "51790    analyze identified name address cookies langua...\n",
              "Name: PII_Extracted, Length: 50000, dtype: object"
            ]
          },
          "metadata": {},
          "execution_count": 19
        }
      ],
      "source": [
        "df['PII_Extracted']"
      ]
    },
    {
      "cell_type": "code",
      "execution_count": null,
      "metadata": {
        "id": "Ms-3txwJMEM-"
      },
      "outputs": [],
      "source": [
        "#make sure to change the file name for the correct year\n",
        "\n",
        "df.PII_Extracted.to_csv('/2019_pii_extracted.csv')"
      ]
    }
  ],
  "metadata": {
    "colab": {
      "provenance": [],
      "machine_shape": "hm",
      "include_colab_link": true
    },
    "kernelspec": {
      "display_name": "Python 3",
      "name": "python3"
    },
    "language_info": {
      "name": "python"
    },
    "gpuClass": "standard"
  },
  "nbformat": 4,
  "nbformat_minor": 0
}
