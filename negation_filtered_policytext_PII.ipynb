{
  "cells": [
    {
      "cell_type": "markdown",
      "metadata": {
        "id": "view-in-github",
        "colab_type": "text"
      },
      "source": [
        "<a href=\"https://colab.research.google.com/github/juniperlovato/privacypolicypaper/blob/main/negation_filtered_policytext_PII.ipynb\" target=\"_parent\"><img src=\"https://colab.research.google.com/assets/colab-badge.svg\" alt=\"Open In Colab\"/></a>"
      ]
    },
    {
      "cell_type": "code",
      "execution_count": null,
      "metadata": {
        "id": "50g4BvmW87QS"
      },
      "outputs": [],
      "source": [
        "import pandas as pd\n",
        "import re\n",
        "import numpy as np\n",
        "import array as ar\n",
        "\n",
        "#--\n",
        "import os"
      ]
    },
    {
      "cell_type": "code",
      "execution_count": null,
      "metadata": {
        "colab": {
          "base_uri": "https://localhost:8080/"
        },
        "id": "Gvaym3iPDsPt",
        "outputId": "f813aa4a-332e-47f1-c0d4-971168bfb370"
      },
      "outputs": [
        {
          "output_type": "stream",
          "name": "stdout",
          "text": [
            "Drive already mounted at /content/drive; to attempt to forcibly remount, call drive.mount(\"/content/drive\", force_remount=True).\n"
          ]
        }
      ],
      "source": [
        "from google.colab import drive\n",
        "drive.mount('/content/drive')"
      ]
    },
    {
      "cell_type": "markdown",
      "metadata": {
        "id": "SDx_eTeK_NXv"
      },
      "source": [
        "Summary\n",
        "\n",
        "1.   We are going to want to feed in each year of the privacy policy text\n",
        "2.   then we want to filter out clauses that only have negation words (save the csv here)\n",
        "3.   then filter the data frame so it only has PII lexicon terms (save the csv here too)\n",
        "\n"
      ]
    },
    {
      "cell_type": "code",
      "execution_count": null,
      "metadata": {
        "id": "79aCRF91JSTW"
      },
      "outputs": [],
      "source": [
        "#we will want to feed in each year of priviacy policies\n",
        "data_base_path = '/data'\n",
        "cleaned_data_path = 'by-year'\n",
        "data_path = os.path.join(data_base_path, cleaned_data_path)\n",
        "#--\n",
        "df = pd.read_csv(os.path.join(data_path, 'PrivacyPolicies-2019.csv'))"
      ]
    },
    {
      "cell_type": "markdown",
      "metadata": {
        "id": "MR_9o-alK3wS"
      },
      "source": [
        "#negation"
      ]
    },
    {
      "cell_type": "code",
      "execution_count": null,
      "metadata": {
        "id": "-uAImUcYK44J",
        "colab": {
          "base_uri": "https://localhost:8080/"
        },
        "outputId": "917b09fa-80bc-4c3a-8471-84b0a755b2c6"
      },
      "outputs": [
        {
          "output_type": "execute_result",
          "data": {
            "text/plain": [
              "0         14137\n",
              "1         14366\n",
              "2         14363\n",
              "3         14394\n",
              "4         14396\n",
              "          ...  \n",
              "333981    11953\n",
              "333982     5582\n",
              "333983    16906\n",
              "333984     4168\n",
              "333985    18984\n",
              "Name: nb_of_clauses, Length: 333986, dtype: object"
            ]
          },
          "metadata": {},
          "execution_count": 4
        }
      ],
      "source": [
        "\n",
        "df['list_of_clauses'] = df['policy_text'].astype('object')\n",
        "df['nb_of_clauses'] = df['length']\n",
        "df['list_of_clauses'].astype(str).str.lower()\n",
        "df['nb_of_clauses'].astype(str).str.lower()"
      ]
    },
    {
      "cell_type": "code",
      "execution_count": null,
      "metadata": {
        "id": "3aB-PS8Tt6GB"
      },
      "outputs": [],
      "source": [
        "df_clauses = df[['nb_of_clauses', 'list_of_clauses']].copy()"
      ]
    },
    {
      "cell_type": "code",
      "execution_count": null,
      "metadata": {
        "id": "8J_QvzszLR6N"
      },
      "outputs": [],
      "source": [
        "#we loop all rows and find all punctuation then split them each into a new column\n",
        "#every entry in the new column now becomes a list of clauses\n",
        "\n",
        "for index, row in df_clauses.iterrows():\n",
        "    policy_texts_split = re.split(r\"[!\\\"#\\$%&\\'\\(\\)\\*\\+,-\\./:;<=>\\?@\\[\\\\\\]\\^_`{\\|}~]\", df_clauses.at[index,'list_of_clauses'])\n",
        "    policy_texts_split = list(filter(None, policy_texts_split))\n",
        "    df_clauses.at[index,'list_of_clauses'] = policy_texts_split\n",
        "    df_clauses.at[index,'nb_of_clauses'] = len(policy_texts_split)\n"
      ]
    },
    {
      "cell_type": "code",
      "execution_count": null,
      "metadata": {
        "id": "nWxsk3k5D6fh",
        "colab": {
          "base_uri": "https://localhost:8080/",
          "height": 424
        },
        "outputId": "3e958474-e2d5-46ea-8821-1acead6749b5"
      },
      "outputs": [
        {
          "output_type": "execute_result",
          "data": {
            "text/plain": [
              "       nb_of_clauses                                    list_of_clauses\n",
              "0                702  [Effective Date,   June 11,  2018\\n\\nAt DocuSi...\n",
              "1                702  [Effective Date,   June 11,  2018\\n\\nAt DocuSi...\n",
              "2                373  [PDF, XChange Co Ltd ,  Tracker Software Produ...\n",
              "3                590  [ INTRODUCTION\\n\\nWelcome to FCA US LLC , FCA ...\n",
              "4               1071  [MH Sub I,  LLC dba Internet Brands and its af...\n",
              "...              ...                                                ...\n",
              "51786             52  [Do we use cookies, \\n\\nWe do not use cookies,...\n",
              "51787            148  [1 INTRODUCTION\\n\\n1, 1,  PURPOSE OF POLICY\\n\\...\n",
              "51788             99  [This Privacy Policy governs the manner in whi...\n",
              "51789            342  [HUGEDOMAINS, COM PRIVACY POLICY\\n\\nHugeDomain...\n",
              "51790            512  [We,  Cricket Traveling Ltd,  are committed to...\n",
              "\n",
              "[51791 rows x 2 columns]"
            ],
            "text/html": [
              "\n",
              "  <div id=\"df-ee1b5039-7fc7-4cef-add4-fbdf923dcd79\">\n",
              "    <div class=\"colab-df-container\">\n",
              "      <div>\n",
              "<style scoped>\n",
              "    .dataframe tbody tr th:only-of-type {\n",
              "        vertical-align: middle;\n",
              "    }\n",
              "\n",
              "    .dataframe tbody tr th {\n",
              "        vertical-align: top;\n",
              "    }\n",
              "\n",
              "    .dataframe thead th {\n",
              "        text-align: right;\n",
              "    }\n",
              "</style>\n",
              "<table border=\"1\" class=\"dataframe\">\n",
              "  <thead>\n",
              "    <tr style=\"text-align: right;\">\n",
              "      <th></th>\n",
              "      <th>nb_of_clauses</th>\n",
              "      <th>list_of_clauses</th>\n",
              "    </tr>\n",
              "  </thead>\n",
              "  <tbody>\n",
              "    <tr>\n",
              "      <th>0</th>\n",
              "      <td>702</td>\n",
              "      <td>[Effective Date,   June 11,  2018\\n\\nAt DocuSi...</td>\n",
              "    </tr>\n",
              "    <tr>\n",
              "      <th>1</th>\n",
              "      <td>702</td>\n",
              "      <td>[Effective Date,   June 11,  2018\\n\\nAt DocuSi...</td>\n",
              "    </tr>\n",
              "    <tr>\n",
              "      <th>2</th>\n",
              "      <td>373</td>\n",
              "      <td>[PDF, XChange Co Ltd ,  Tracker Software Produ...</td>\n",
              "    </tr>\n",
              "    <tr>\n",
              "      <th>3</th>\n",
              "      <td>590</td>\n",
              "      <td>[ INTRODUCTION\\n\\nWelcome to FCA US LLC , FCA ...</td>\n",
              "    </tr>\n",
              "    <tr>\n",
              "      <th>4</th>\n",
              "      <td>1071</td>\n",
              "      <td>[MH Sub I,  LLC dba Internet Brands and its af...</td>\n",
              "    </tr>\n",
              "    <tr>\n",
              "      <th>...</th>\n",
              "      <td>...</td>\n",
              "      <td>...</td>\n",
              "    </tr>\n",
              "    <tr>\n",
              "      <th>51786</th>\n",
              "      <td>52</td>\n",
              "      <td>[Do we use cookies, \\n\\nWe do not use cookies,...</td>\n",
              "    </tr>\n",
              "    <tr>\n",
              "      <th>51787</th>\n",
              "      <td>148</td>\n",
              "      <td>[1 INTRODUCTION\\n\\n1, 1,  PURPOSE OF POLICY\\n\\...</td>\n",
              "    </tr>\n",
              "    <tr>\n",
              "      <th>51788</th>\n",
              "      <td>99</td>\n",
              "      <td>[This Privacy Policy governs the manner in whi...</td>\n",
              "    </tr>\n",
              "    <tr>\n",
              "      <th>51789</th>\n",
              "      <td>342</td>\n",
              "      <td>[HUGEDOMAINS, COM PRIVACY POLICY\\n\\nHugeDomain...</td>\n",
              "    </tr>\n",
              "    <tr>\n",
              "      <th>51790</th>\n",
              "      <td>512</td>\n",
              "      <td>[We,  Cricket Traveling Ltd,  are committed to...</td>\n",
              "    </tr>\n",
              "  </tbody>\n",
              "</table>\n",
              "<p>51791 rows × 2 columns</p>\n",
              "</div>\n",
              "      <button class=\"colab-df-convert\" onclick=\"convertToInteractive('df-ee1b5039-7fc7-4cef-add4-fbdf923dcd79')\"\n",
              "              title=\"Convert this dataframe to an interactive table.\"\n",
              "              style=\"display:none;\">\n",
              "        \n",
              "  <svg xmlns=\"http://www.w3.org/2000/svg\" height=\"24px\"viewBox=\"0 0 24 24\"\n",
              "       width=\"24px\">\n",
              "    <path d=\"M0 0h24v24H0V0z\" fill=\"none\"/>\n",
              "    <path d=\"M18.56 5.44l.94 2.06.94-2.06 2.06-.94-2.06-.94-.94-2.06-.94 2.06-2.06.94zm-11 1L8.5 8.5l.94-2.06 2.06-.94-2.06-.94L8.5 2.5l-.94 2.06-2.06.94zm10 10l.94 2.06.94-2.06 2.06-.94-2.06-.94-.94-2.06-.94 2.06-2.06.94z\"/><path d=\"M17.41 7.96l-1.37-1.37c-.4-.4-.92-.59-1.43-.59-.52 0-1.04.2-1.43.59L10.3 9.45l-7.72 7.72c-.78.78-.78 2.05 0 2.83L4 21.41c.39.39.9.59 1.41.59.51 0 1.02-.2 1.41-.59l7.78-7.78 2.81-2.81c.8-.78.8-2.07 0-2.86zM5.41 20L4 18.59l7.72-7.72 1.47 1.35L5.41 20z\"/>\n",
              "  </svg>\n",
              "      </button>\n",
              "      \n",
              "  <style>\n",
              "    .colab-df-container {\n",
              "      display:flex;\n",
              "      flex-wrap:wrap;\n",
              "      gap: 12px;\n",
              "    }\n",
              "\n",
              "    .colab-df-convert {\n",
              "      background-color: #E8F0FE;\n",
              "      border: none;\n",
              "      border-radius: 50%;\n",
              "      cursor: pointer;\n",
              "      display: none;\n",
              "      fill: #1967D2;\n",
              "      height: 32px;\n",
              "      padding: 0 0 0 0;\n",
              "      width: 32px;\n",
              "    }\n",
              "\n",
              "    .colab-df-convert:hover {\n",
              "      background-color: #E2EBFA;\n",
              "      box-shadow: 0px 1px 2px rgba(60, 64, 67, 0.3), 0px 1px 3px 1px rgba(60, 64, 67, 0.15);\n",
              "      fill: #174EA6;\n",
              "    }\n",
              "\n",
              "    [theme=dark] .colab-df-convert {\n",
              "      background-color: #3B4455;\n",
              "      fill: #D2E3FC;\n",
              "    }\n",
              "\n",
              "    [theme=dark] .colab-df-convert:hover {\n",
              "      background-color: #434B5C;\n",
              "      box-shadow: 0px 1px 3px 1px rgba(0, 0, 0, 0.15);\n",
              "      filter: drop-shadow(0px 1px 2px rgba(0, 0, 0, 0.3));\n",
              "      fill: #FFFFFF;\n",
              "    }\n",
              "  </style>\n",
              "\n",
              "      <script>\n",
              "        const buttonEl =\n",
              "          document.querySelector('#df-ee1b5039-7fc7-4cef-add4-fbdf923dcd79 button.colab-df-convert');\n",
              "        buttonEl.style.display =\n",
              "          google.colab.kernel.accessAllowed ? 'block' : 'none';\n",
              "\n",
              "        async function convertToInteractive(key) {\n",
              "          const element = document.querySelector('#df-ee1b5039-7fc7-4cef-add4-fbdf923dcd79');\n",
              "          const dataTable =\n",
              "            await google.colab.kernel.invokeFunction('convertToInteractive',\n",
              "                                                     [key], {});\n",
              "          if (!dataTable) return;\n",
              "\n",
              "          const docLinkHtml = 'Like what you see? Visit the ' +\n",
              "            '<a target=\"_blank\" href=https://colab.research.google.com/notebooks/data_table.ipynb>data table notebook</a>'\n",
              "            + ' to learn more about interactive tables.';\n",
              "          element.innerHTML = '';\n",
              "          dataTable['output_type'] = 'display_data';\n",
              "          await google.colab.output.renderOutput(dataTable, element);\n",
              "          const docLink = document.createElement('div');\n",
              "          docLink.innerHTML = docLinkHtml;\n",
              "          element.appendChild(docLink);\n",
              "        }\n",
              "      </script>\n",
              "    </div>\n",
              "  </div>\n",
              "  "
            ]
          },
          "metadata": {},
          "execution_count": 27
        }
      ],
      "source": [
        "# df_clauses"
      ]
    },
    {
      "cell_type": "code",
      "execution_count": null,
      "metadata": {
        "id": "D2zpJxB4M7C7"
      },
      "outputs": [],
      "source": [
        "#negation words from Juniper and Peter\n",
        "negation_words = [\"don't\",\"never\", \"nothing\", \"nowhere\", \"noone\", \"none\", \"not\",\n",
        "                  \"hasn't\",\"hadn't\",\"can't\",\"couldn't\",\"shouldn't\",\"won't\",\n",
        "                  \"wouldn't\",\"don't\",\"doesn't\",\"didn't\",\"isn't\",\"aren't\",\"ain't\", \"in*\",  \"un*\", \"dis*\", \"mal*\"]\n",
        "\n",
        "\n",
        "#“don't|never| nothing|nowhere|noone|none|not|hasn't|hadn't|can't|couldn't|shouldn't|won't|wouldn't|don't|doesn't|didn't|isn't|aren't|ain't|in*|un*|dis*|mal*”"
      ]
    },
    {
      "cell_type": "code",
      "execution_count": null,
      "metadata": {
        "id": "2BNKIHJ1D_a6"
      },
      "outputs": [],
      "source": [
        "#iterate through all the rows\n",
        "#look at list items that contain negation words\n",
        "#if the list item contains a negation word then remove the list item (sentence)\n",
        "#return a column with just the list of sentences that do not have negation words in them\n",
        "\n",
        "def remove_negations(text):\n",
        "    # Step 1: split the text into sentences\n",
        "    sent = re.split(r'[.!]', text)\n",
        "    #list to store sentences without negataions\n",
        "    w_neg = []\n",
        "    #step 2: check for each sentence in row\n",
        "    for i in sent:\n",
        "      neg = False\n",
        "      #step 3: check for each negation word in the list of negation words\n",
        "      for j in negation_words:\n",
        "        if j in i and != PII: #if there is a negataion word in sentence\n",
        "          neg = True #make it true\n",
        "          break; #break the loop and go for another sentence\n",
        "      if not neg: #but if it's still false meaning that no negation word was found in a sentence\n",
        "        w_neg.append(i) #add that sentence to the list\n",
        "\n",
        "    return w_neg #now join back the sentences\n",
        "\n",
        "df['negation_Extracted'] = df['policy_text'].apply(remove_negations) #apply at each row\n",
        "\n"
      ]
    },
    {
      "cell_type": "code",
      "execution_count": null,
      "metadata": {
        "id": "9tKn_oxgFTLc",
        "colab": {
          "base_uri": "https://localhost:8080/"
        },
        "outputId": "7d8050e8-68f0-4d9c-996d-a2eb388e00cf"
      },
      "outputs": [
        {
          "output_type": "execute_result",
          "data": {
            "text/plain": [
              "0        [Effective Date:  June 11, 2018\\n\\nAt DocuSign...\n",
              "1        [Effective Date:  June 11, 2018\\n\\nAt DocuSign...\n",
              "2        [PDF-XChange Co Ltd & Tracker Software Product...\n",
              "3        [## INTRODUCTION\\n\\nWelcome to FCA US LLC (\"FC...\n",
              "4        [MH Sub I, LLC dba Internet Brands and its aff...\n",
              "                               ...                        \n",
              "51786    [\\n\\nVisitor Stats\\n\\nWe are using two differe...\n",
              "51787    [1 INTRODUCTION\\n\\n1, 1,  PURPOSE OF POLICY\\n\\...\n",
              "51788    [This Privacy Policy governs the manner in whi...\n",
              "51789    [HUGEDOMAINS, COM PRIVACY POLICY\\n\\nHugeDomain...\n",
              "51790    [We, Cricket Traveling Ltd, are committed to p...\n",
              "Name: negation_Extracted, Length: 51791, dtype: object"
            ]
          },
          "metadata": {},
          "execution_count": 30
        }
      ],
      "source": [
        "# df['negation_Extracted']"
      ]
    },
    {
      "cell_type": "code",
      "execution_count": null,
      "metadata": {
        "id": "L3M84sba_tDB"
      },
      "outputs": [],
      "source": [
        "#save it as a csv\n",
        "#make sure to change the file name for the correct year\n",
        "\n",
        "df.to_csv('ALLYEARS_negation_extracted.csv')"
      ]
    },
    {
      "cell_type": "markdown",
      "metadata": {
        "id": "yjzOvq23K5Ko"
      },
      "source": [
        "#filter PII"
      ]
    },
    {
      "cell_type": "code",
      "execution_count": null,
      "metadata": {
        "id": "BBakEfs3-CR1"
      },
      "outputs": [],
      "source": [
        "#these are all of the terms in our PII lexicon put into a list\n",
        "PII = ['Identifiers',\n",
        "    'alias',\n",
        "    'online identifier',\n",
        "    'Internet Protocol (IP) address',\n",
        "    'account name',\n",
        "    'social security number',\n",
        "    'passport number',\n",
        "    'Customer records information',\n",
        "    'IDENTIFICATION NUMBER',\n",
        "    'signature',\n",
        "    'electronic mail address',\n",
        "    'address',\n",
        "    'telephone number',\n",
        "    'PROTECTED HEALTH INFORMATION',\n",
        "    'state identification card number',\n",
        "    'education',\n",
        "    'employment history',\n",
        "    'bank account number',\n",
        "    'face',\n",
        "    'financial information',\n",
        "    'Records of personal property',\n",
        "    'products purchased',\n",
        "    'health condition',\n",
        "    'consuming histories',\n",
        "    'Services purchased',\n",
        "    'eye color',\n",
        "    'retina scans',\n",
        "    'network activity',\n",
        "    'Internet  activity',\n",
        "    'search history',\n",
        "    'Geolocation',\n",
        "    'visual',\n",
        "    'thermal',\n",
        "    'olfactory',\n",
        "    'Professional',\n",
        "    'Medical Condition',\n",
        "    'Characteristics',\n",
        "    'Aggregated data',\n",
        "    'Predispositions',\n",
        "    'Behavior',\n",
        "    'specific location',\n",
        "    'facial recognition',\n",
        "    'physiological',\n",
        "    'behavioral',\n",
        "    'Audio',\n",
        "    'DNA',\n",
        "    'iris',\n",
        "    'retina',\n",
        "    'hand',\n",
        "    'palm',\n",
        "    'vein patterns',\n",
        "    'voice recordings',\n",
        "    'minutiae template',\n",
        "    'HEALTH STATUS',\n",
        "    'keystroke patterns ',\n",
        "    'keystroke rhythms',\n",
        "    'gait rhythms',\n",
        "    'sleep',\n",
        "    'health',\n",
        "    'exercise',\n",
        "    'Cross-context behavioral advertising',\n",
        "    'targeted advertising',\n",
        "    'Dark pattern',\n",
        "    'Personal information',\n",
        "    'RACIAL',\n",
        "    'real name',\n",
        "    'Account number',\n",
        "    'postal address',\n",
        "    'financial account number',\n",
        "    'Internet Protocol address',\n",
        "    'Gender identity',\n",
        "    'email address',\n",
        "    'security question',\n",
        "    'Color',\n",
        "    'Religion',\n",
        "    'Sex',\n",
        "    'Sexual orientation',\n",
        "    'Marital status',\n",
        "    'National origin',\n",
        "    'Ancestry',\n",
        "    'Genetic information',\n",
        "    'Retaliation for reporting patient abuse in tax-supported institutions',\n",
        "    'Age',\n",
        "    'religious dress',\n",
        "    'pregnancy',\n",
        "    'Gender',\n",
        "    'childbirth',\n",
        "    'breastfeeding',\n",
        "    'mental characteristics',\n",
        "    'physical characteristics',\n",
        "    'HIV/AIDS',\n",
        "    'cancer',\n",
        "    'genetic characteristics',\n",
        "    'Geolocation data',\n",
        "    'record of cancer',\n",
        "    'history of cancer',\n",
        "    'gender expression',\n",
        "    'abilities',\n",
        "    'MENTAL CONDITION',\n",
        "    'PREDICT',\n",
        "    'biological',\n",
        "    'purchasing tendencies',\n",
        "    'Aggregate consumer information',\n",
        "    'first name',\n",
        "    'voice',\n",
        "    'electronic network activity',\n",
        "    'biological characteristic',\n",
        "    'interaction with an advertisement',\n",
        "    'Browsing history',\n",
        "    'employment',\n",
        "    'Race',\n",
        "    'health records',\n",
        "    'citizenship',\n",
        "    'Military or veteran status',\n",
        "    'medical identification number',\n",
        "    'access code',\n",
        "    'preferences',\n",
        "    'protected classifications',\n",
        "    'psychological trends',\n",
        "    'Commercial information',\n",
        "    'medical information',\n",
        "    'attitudes',\n",
        "    'intelligence',\n",
        "    'Name',\n",
        "    'driver\\'s license',\n",
        "    'Sensitive personal information',\n",
        "    'Precise geolocation',\n",
        "    'locate',\n",
        "    'geographic area',\n",
        "    'radius',\n",
        "    'Sensitive data',\n",
        "    'Profiling',\n",
        "    'consumer\\'s social security',\n",
        "    'driver\\'s license',\n",
        "    'state Identification card',\n",
        "    'account log-In',\n",
        "    'credit card',\n",
        "    'health insurance information',\n",
        "    'password',\n",
        "    'credentials allowing access to an account',\n",
        "    'combination',\n",
        "    'racial origin',\n",
        "    'ethnic origin',\n",
        "    'philosophical beliefs',\n",
        "    'union membership',\n",
        "    'text messages',\n",
        "    'genetic data',\n",
        "    'biometric data',\n",
        "    'Personally identifiable information',\n",
        "    'security code',\n",
        "    'fingerprint',\n",
        "    'device identifier',\n",
        "    'IP address',\n",
        "    'cookies',\n",
        "    'beacons',\n",
        "    'pixel tags',\n",
        "    'customer number',\n",
        "    'unique pseudonym',\n",
        "    'telephone numbers',\n",
        "    'persistent identifier',\n",
        "    'probabilistic identifier',\n",
        "    'family',\n",
        "    'child',\n",
        "    'identifier template',\n",
        "    'DE-IDENTIFIED DATA',\n",
        "    'HEALTH-CARE INFORMATION',\n",
        "    'HEALTH-CARE PROVIDER',\n",
        "    'MEDICINE',\n",
        "    'PHARMACY',\n",
        "    'CHIROPRACTIC',\n",
        "    'NURSING',\n",
        "    'PHYSICAL THERAPY',\n",
        "    'PODIATRY',\n",
        "    'DENTISTRY',\n",
        "    'OPTOMETRY',\n",
        "    'OCCUPATIONAL THERAPY',\n",
        "    'HEALING ARTS',\n",
        "    'IDENTIFIED',\n",
        "    'IDENTIFIABLE INDIVIDUAL',\n",
        "    'ONLINE IDENTIFIER',\n",
        "    'PERSONAL DATA',\n",
        "    'products obtained',\n",
        "    'AUTOMATED PROCESSING',\n",
        "    'Request for Pregnancy Disability Leave',\n",
        "    'ANALYZE',\n",
        "    'ECONOMIC SITUATION',\n",
        "    'PERSONAL PREFERENCES',\n",
        "    'religious beliefs',\n",
        "    'RELIABILITY',\n",
        "    'LOCATION',\n",
        "    'MOVEMENTS',\n",
        "    'PHYSICAL HEALTH CONDITION',\n",
        "    'DIAGNOSIS',\n",
        "    'credit card number',\n",
        "    'CITIZENSHIP STATUS',\n",
        "    'GENETIC',\n",
        "    'last name',\n",
        "    'mobile ad identifiers',\n",
        "    'HEALTH-CARE',\n",
        "    'PATIENT',\n",
        "    'fingerprints',\n",
        "    'products considered',\n",
        "    'physical description',\n",
        "    'voiceprint',\n",
        "    'eye retinas',\n",
        "    'Unique identifier',\n",
        "    'consuming tendencies',\n",
        "    'faceprint',\n",
        "    'driver\\'s license number',\n",
        "    'Services considered',\n",
        "    'global positioning system',\n",
        "    'latitude',\n",
        "    'longitude',\n",
        "    'coordinates',\n",
        "    'interests',\n",
        "    'financial account',\n",
        "    'user alias',\n",
        "    'irises',\n",
        "    'Request for leave for an employee\\'s own serious health condition',\n",
        "    'condition',\n",
        "    'physical',\n",
        "    'diagnosis',\n",
        "    'insurance policy number',\n",
        "    'immigration status',\n",
        "    'known child',\n",
        "    'sex life',\n",
        "    'height',\n",
        "    'AIDS',\n",
        "    'medical diagnosis',\n",
        "    'religious grooming practices',\n",
        "    'Identifiable individual',\n",
        "    'debit card',\n",
        "    'ethnic',\n",
        "    'origin',\n",
        "    'medical treatment',\n",
        "    'Inferences',\n",
        "    'medical history',\n",
        "    'mental health',\n",
        "    'physical health',\n",
        "    'mental',\n",
        "    'Biometric information',\n",
        "    'email content',\n",
        "    'physical representation',\n",
        "    'biological pattern',\n",
        "    'mother\\'s maiden name',\n",
        "    'interaction with an internet website application',\n",
        "    'deoxyribonucleic acid',\n",
        "    'purchasing histories',\n",
        "    'Disability',\n",
        "    'targeting of advertising',\n",
        "    'movements',\n",
        "    'Hair color',\n",
        "    'digital representation',\n",
        "    'Initials',\n",
        "    'SPECIFIC GEOLOCATION DATA',\n",
        "    'driver authorization card number',\n",
        "    'identification card number',\n",
        "    'debit card number',\n",
        "    'health insurance identification number',\n",
        "    'user name',\n",
        "    'Request for family care leave',\n",
        "    'date of birth',\n",
        "    'place of birth',\n",
        "    'unique biometric',\n",
        "    'human body',\n",
        "    'HIV',\n",
        "    'biometric',\n",
        "    'language',\n",
        "    'household',\n",
        "    'driver\\'s license number',\n",
        "    'government-issued identification number',\n",
        "    'driver license',\n",
        "    'nondriver State identification card number',\n",
        "    'individual taxpayer identification number',\n",
        "    'military identification card number',\n",
        "    'gait patterns',\n",
        "    'unique personal identifier',\n",
        "    'passwords',\n",
        "    'personal identification number',\n",
        "    'services obtained',\n",
        "    'wellness program',\n",
        "    'health promotion',\n",
        "    'disease prevention',\n",
        "    'health insurance policy number']\n"
      ]
    },
    {
      "cell_type": "code",
      "execution_count": null,
      "metadata": {
        "id": "qNLqCzS9DQo_"
      },
      "outputs": [],
      "source": [
        "#make sure the lexixon terms are lower case\n",
        "for i in range(len(PII)):\n",
        "    PII[i] = PII[i].lower()"
      ]
    },
    {
      "cell_type": "code",
      "execution_count": null,
      "metadata": {
        "id": "rmVZmLQ5Kh7g"
      },
      "outputs": [],
      "source": [
        "df['negation_Extracted'] = df['negation_Extracted'].astype(str)"
      ]
    },
    {
      "cell_type": "code",
      "execution_count": null,
      "metadata": {
        "id": "3nmuD6iZLlKt"
      },
      "outputs": [],
      "source": [
        "#filter out all of the PII terms and put them in a new column\n",
        "\n",
        "extracted =[]\n",
        "for index, row in df.iterrows():\n",
        "    tempList =[]\n",
        "    rowSplit = row['negation_Extracted'].split(\" \")\n",
        "    for val in rowSplit:\n",
        "        if val in PII:\n",
        "            tempList.append(val)\n",
        "    if len(tempList)>0:\n",
        "        extracted.append(' '.join(tempList))\n",
        "    else:\n",
        "        extracted.append(np.nan)\n",
        "\n",
        "df['PII_Extracted'] = extracted"
      ]
    },
    {
      "cell_type": "code",
      "execution_count": null,
      "metadata": {
        "id": "t_udY_F6RC3v"
      },
      "outputs": [],
      "source": [
        "#drop nans\n",
        "\n",
        "df = df[df['PII_Extracted'].notna()]"
      ]
    },
    {
      "cell_type": "code",
      "execution_count": null,
      "metadata": {
        "id": "jsRyJImGK9l5",
        "colab": {
          "base_uri": "https://localhost:8080/"
        },
        "outputId": "369b32dd-cc91-4233-a96c-de89b33ad3cd"
      },
      "outputs": [
        {
          "output_type": "execute_result",
          "data": {
            "text/plain": [
              "0        professional signature name geolocation identi...\n",
              "1        professional signature name geolocation identi...\n",
              "2        analyze location location language preferences...\n",
              "3        combination locate address location locate add...\n",
              "4        address physical characteristics health locati...\n",
              "                               ...                        \n",
              "51786                                              cookies\n",
              "51787                            name name cookies analyze\n",
              "51788                     cookies cookies cookies physical\n",
              "51789    physical preferences name cookies cookies pref...\n",
              "51790    analyze identified name address cookies langua...\n",
              "Name: PII_Extracted, Length: 50000, dtype: object"
            ]
          },
          "metadata": {},
          "execution_count": 37
        }
      ],
      "source": [
        "# df['PII_Extracted']"
      ]
    },
    {
      "cell_type": "code",
      "execution_count": null,
      "metadata": {
        "id": "Ms-3txwJMEM-"
      },
      "outputs": [],
      "source": [
        "#make sure to change the file name for the correct year\n",
        "\n",
        "df.PII_Extracted.to_csv('2019_pii_extracted.csv')"
      ]
    },
    {
      "cell_type": "markdown",
      "source": [],
      "metadata": {
        "id": "c18OmLLFllZ5"
      }
    }
  ],
  "metadata": {
    "colab": {
      "provenance": [],
      "machine_shape": "hm",
      "include_colab_link": true
    },
    "kernelspec": {
      "display_name": "Python 3",
      "name": "python3"
    },
    "language_info": {
      "name": "python"
    },
    "gpuClass": "standard"
  },
  "nbformat": 4,
  "nbformat_minor": 0
}